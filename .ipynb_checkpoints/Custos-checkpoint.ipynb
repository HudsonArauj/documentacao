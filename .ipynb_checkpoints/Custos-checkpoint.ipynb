{
 "cells": [
  {
   "cell_type": "markdown",
   "id": "8f00b9c7",
   "metadata": {},
   "source": [
    "### Análise de custos "
   ]
  },
  {
   "cell_type": "code",
   "execution_count": null,
   "id": "cf1125d2",
   "metadata": {},
   "outputs": [],
   "source": [
    "#imports\n",
    "import pandas as pd"
   ]
  },
  {
   "cell_type": "code",
   "execution_count": 47,
   "id": "f8010214",
   "metadata": {},
   "outputs": [],
   "source": [
    "df = pd.read_csv('Estimativa de Custos.csv',encoding='latin-1', nrows= 1, usecols = ['Custo inicial','Custo mensal','Total 12 months cost','Moeda'])"
   ]
  },
  {
   "cell_type": "markdown",
   "id": "8778ded3",
   "metadata": {},
   "source": [
    "## Tabela do custo total"
   ]
  },
  {
   "cell_type": "code",
   "execution_count": 48,
   "id": "1e2409fc",
   "metadata": {},
   "outputs": [
    {
     "data": {
      "text/html": [
       "<div>\n",
       "<style scoped>\n",
       "    .dataframe tbody tr th:only-of-type {\n",
       "        vertical-align: middle;\n",
       "    }\n",
       "\n",
       "    .dataframe tbody tr th {\n",
       "        vertical-align: top;\n",
       "    }\n",
       "\n",
       "    .dataframe thead th {\n",
       "        text-align: right;\n",
       "    }\n",
       "</style>\n",
       "<table border=\"1\" class=\"dataframe\">\n",
       "  <thead>\n",
       "    <tr style=\"text-align: right;\">\n",
       "      <th></th>\n",
       "      <th>Custo inicial</th>\n",
       "      <th>Custo mensal</th>\n",
       "      <th>Total 12 months cost</th>\n",
       "      <th>Moeda</th>\n",
       "    </tr>\n",
       "  </thead>\n",
       "  <tbody>\n",
       "    <tr>\n",
       "      <th>0</th>\n",
       "      <td>0</td>\n",
       "      <td>59.33</td>\n",
       "      <td>711.96</td>\n",
       "      <td>USD</td>\n",
       "    </tr>\n",
       "  </tbody>\n",
       "</table>\n",
       "</div>"
      ],
      "text/plain": [
       "   Custo inicial  Custo mensal  Total 12 months cost Moeda\n",
       "0              0         59.33                711.96   USD"
      ]
     },
     "execution_count": 48,
     "metadata": {},
     "output_type": "execute_result"
    }
   ],
   "source": [
    "df"
   ]
  },
  {
   "cell_type": "code",
   "execution_count": 53,
   "id": "1c7d48c9",
   "metadata": {},
   "outputs": [],
   "source": [
    "df_2 = df = pd.read_csv('Estimativa de Custos.csv',encoding='latin-1', nrows= 4, skiprows=6)"
   ]
  },
  {
   "cell_type": "markdown",
   "id": "4e16a8d5",
   "metadata": {},
   "source": [
    "## Tabela com custos específicos"
   ]
  },
  {
   "cell_type": "code",
   "execution_count": 54,
   "id": "139eaff3",
   "metadata": {},
   "outputs": [
    {
     "data": {
      "text/html": [
       "<div>\n",
       "<style scoped>\n",
       "    .dataframe tbody tr th:only-of-type {\n",
       "        vertical-align: middle;\n",
       "    }\n",
       "\n",
       "    .dataframe tbody tr th {\n",
       "        vertical-align: top;\n",
       "    }\n",
       "\n",
       "    .dataframe thead th {\n",
       "        text-align: right;\n",
       "    }\n",
       "</style>\n",
       "<table border=\"1\" class=\"dataframe\">\n",
       "  <thead>\n",
       "    <tr style=\"text-align: right;\">\n",
       "      <th></th>\n",
       "      <th>Hierarquia de grupos</th>\n",
       "      <th>Região</th>\n",
       "      <th>Descrição</th>\n",
       "      <th>Serviço</th>\n",
       "      <th>Pagamento adiantado</th>\n",
       "      <th>Mensal</th>\n",
       "      <th>First 12 months total</th>\n",
       "      <th>Moeda</th>\n",
       "      <th>Status</th>\n",
       "      <th>Resumo da configuração</th>\n",
       "    </tr>\n",
       "  </thead>\n",
       "  <tbody>\n",
       "    <tr>\n",
       "      <th>0</th>\n",
       "      <td>Estimativa de Custos</td>\n",
       "      <td>Leste dos EUA (N. da Virgínia)</td>\n",
       "      <td>Estimativa das Instancias EC2</td>\n",
       "      <td>Amazon EC2</td>\n",
       "      <td>0</td>\n",
       "      <td>4.234</td>\n",
       "      <td>50.81</td>\n",
       "      <td>USD</td>\n",
       "      <td>NaN</td>\n",
       "      <td>Locação (Instâncias compartilhadas), Sistema o...</td>\n",
       "    </tr>\n",
       "    <tr>\n",
       "      <th>1</th>\n",
       "      <td>Estimativa de Custos</td>\n",
       "      <td>Leste dos EUA (N. da Virgínia)</td>\n",
       "      <td>Estimativa do RDS</td>\n",
       "      <td>Amazon RDS for MySQL</td>\n",
       "      <td>0</td>\n",
       "      <td>54.285</td>\n",
       "      <td>651.42</td>\n",
       "      <td>USD</td>\n",
       "      <td>NaN</td>\n",
       "      <td>Armazenamento para cada instância do RDS (SSD ...</td>\n",
       "    </tr>\n",
       "    <tr>\n",
       "      <th>2</th>\n",
       "      <td>Estimativa de Custos</td>\n",
       "      <td>Leste dos EUA (N. da Virgínia)</td>\n",
       "      <td>vpc</td>\n",
       "      <td>Data Transfer</td>\n",
       "      <td>0</td>\n",
       "      <td>0.020</td>\n",
       "      <td>0.24</td>\n",
       "      <td>USD</td>\n",
       "      <td>NaN</td>\n",
       "      <td>DT Entrada: Todas as outras regiões (1 GB por ...</td>\n",
       "    </tr>\n",
       "    <tr>\n",
       "      <th>3</th>\n",
       "      <td>Estimativa de Custos</td>\n",
       "      <td>Leste dos EUA (N. da Virgínia)</td>\n",
       "      <td>vpc</td>\n",
       "      <td>IPAM</td>\n",
       "      <td>0</td>\n",
       "      <td>0.790</td>\n",
       "      <td>9.48</td>\n",
       "      <td>USD</td>\n",
       "      <td>NaN</td>\n",
       "      <td>Número de endereços IP ativos (4)</td>\n",
       "    </tr>\n",
       "  </tbody>\n",
       "</table>\n",
       "</div>"
      ],
      "text/plain": [
       "   Hierarquia de grupos                          Região  \\\n",
       "0  Estimativa de Custos  Leste dos EUA (N. da Virgínia)   \n",
       "1  Estimativa de Custos  Leste dos EUA (N. da Virgínia)   \n",
       "2  Estimativa de Custos  Leste dos EUA (N. da Virgínia)   \n",
       "3  Estimativa de Custos  Leste dos EUA (N. da Virgínia)   \n",
       "\n",
       "                       Descrição               Serviço  Pagamento adiantado  \\\n",
       "0  Estimativa das Instancias EC2           Amazon EC2                     0   \n",
       "1              Estimativa do RDS  Amazon RDS for MySQL                    0   \n",
       "2                            vpc         Data Transfer                    0   \n",
       "3                            vpc                  IPAM                    0   \n",
       "\n",
       "   Mensal  First 12 months total Moeda  Status  \\\n",
       "0   4.234                  50.81   USD     NaN   \n",
       "1  54.285                 651.42   USD     NaN   \n",
       "2   0.020                   0.24   USD     NaN   \n",
       "3   0.790                   9.48   USD     NaN   \n",
       "\n",
       "                              Resumo da configuração  \n",
       "0  Locação (Instâncias compartilhadas), Sistema o...  \n",
       "1  Armazenamento para cada instância do RDS (SSD ...  \n",
       "2  DT Entrada: Todas as outras regiões (1 GB por ...  \n",
       "3                  Número de endereços IP ativos (4)  "
      ]
     },
     "execution_count": 54,
     "metadata": {},
     "output_type": "execute_result"
    }
   ],
   "source": [
    "df_2"
   ]
  },
  {
   "cell_type": "markdown",
   "id": "e6936459",
   "metadata": {},
   "source": [
    "# Maior custo e resumo da configuração"
   ]
  },
  {
   "cell_type": "code",
   "execution_count": 60,
   "id": "d8777b2a",
   "metadata": {},
   "outputs": [],
   "source": [
    "max_custo = df_2.loc[df_2['Mensal'] == max(df_2['Mensal'])]"
   ]
  },
  {
   "cell_type": "markdown",
   "id": "9c58baaa",
   "metadata": {},
   "source": [
    "# Resumo"
   ]
  },
  {
   "cell_type": "code",
   "execution_count": 75,
   "id": "ec54cb9a",
   "metadata": {},
   "outputs": [
    {
     "data": {
      "text/plain": [
       "'Armazenamento para cada instância do RDS (SSD de uso geral (gp2)), Quantidade de armazenamento (30 GB), Quantidade (1), Tipo de instância (db.t2.micro), Utilização (somente sob demanda) (100 %Utilized/Month), Opção de implantação (Multi-AZ), Modelo de preço (OnDemand), Armazenamento de backup adicional (7 GB)'"
      ]
     },
     "execution_count": 75,
     "metadata": {},
     "output_type": "execute_result"
    }
   ],
   "source": [
    "resumo = max_custo['Resumo da configuração']\n",
    "resumo.values[0]"
   ]
  },
  {
   "cell_type": "code",
   "execution_count": null,
   "id": "a6c9198a",
   "metadata": {},
   "outputs": [],
   "source": []
  }
 ],
 "metadata": {
  "kernelspec": {
   "display_name": "Python 3 (ipykernel)",
   "language": "python",
   "name": "python3"
  },
  "language_info": {
   "codemirror_mode": {
    "name": "ipython",
    "version": 3
   },
   "file_extension": ".py",
   "mimetype": "text/x-python",
   "name": "python",
   "nbconvert_exporter": "python",
   "pygments_lexer": "ipython3",
   "version": "3.10.6"
  }
 },
 "nbformat": 4,
 "nbformat_minor": 5
}
